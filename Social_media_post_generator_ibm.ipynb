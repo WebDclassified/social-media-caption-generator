{
  "nbformat": 4,
  "nbformat_minor": 0,
  "metadata": {
    "colab": {
      "provenance": [],
      "gpuType": "T4"
    },
    "kernelspec": {
      "name": "python3",
      "display_name": "Python 3"
    },
    "language_info": {
      "name": "python"
    },
    "accelerator": "GPU"
  },
  "cells": [
    {
      "cell_type": "code",
      "execution_count": 1,
      "metadata": {
        "id": "QJ_YK4ssWKpu"
      },
      "outputs": [],
      "source": [
        "!pip install -q -U google-generativeai"
      ]
    },
    {
      "cell_type": "code",
      "source": [
        "import google.generativeai as genai\n",
        "from google.colab import userdata\n",
        "import time\n",
        "import textwrap\n",
        "\n",
        "try:\n",
        "    API_KEY = userdata.get('GOOGLE_API_KEY')\n",
        "\n",
        "    if not API_KEY:\n",
        "        raise ValueError(\"API key 'GOOGLE_API_KEY' not found in Colab secrets.\")\n",
        "\n",
        "    genai.configure(api_key=API_KEY)\n",
        "\n",
        "except ValueError as e:\n",
        "    print(f\"Error: {e}\")\n",
        "    print(\"Please ensure your Gemini API key is stored in Colab's secrets with the exact name 'GOOGLE_API_KEY'.\")\n",
        "    exit()\n",
        "\n",
        "try:\n",
        "    gemini_model = genai.GenerativeModel('gemini-1.5-flash')\n",
        "except Exception as e:\n",
        "    print(f\"Error initializing Gemini model: {e}\")\n",
        "    print(\"This might be due to a connection issue or an invalid model name.\")\n",
        "    exit()\n",
        "\n",
        "def get_gemini_response(prompt_input):\n",
        "    for attempt in range(3):\n",
        "        try:\n",
        "            response = gemini_model.generate_content(prompt_input)\n",
        "\n",
        "            formatted_text = textwrap.fill(response.text, width=80)\n",
        "            return formatted_text\n",
        "\n",
        "        except Exception as e:\n",
        "            print(f\"\\nAPI call failed: {e}. Retrying in 5 seconds...\")\n",
        "            time.sleep(5)\n",
        "\n",
        "    return \"Sorry, I am unable to generate a response at this time. Please check your internet connection or try again later.\"\n",
        "\n",
        "def main():\n",
        "    print(\"--- Social Media Caption Generator ---\")\n",
        "    print(\"This tool uses Gemini AI to create captions, hashtags, and emojis.\")\n",
        "    print(\"Type 'exit' or 'quit' to end the program.\")\n",
        "    print(\"-\" * 60)\n",
        "\n",
        "    while True:\n",
        "        try:\n",
        "            user_input = input(\"Enter keywords or text for your post: \")\n",
        "\n",
        "            if user_input.lower() in ['exit', 'quit']:\n",
        "                print(\"\\nGenerator: Goodbye! 👋\")\n",
        "                break\n",
        "\n",
        "            if user_input.strip():\n",
        "                print(\"\\nGenerator: Crafting your content...\\n\")\n",
        "\n",
        "                # Construct a specific prompt for the social media task\n",
        "                prompt = f\"\"\"\n",
        "                You are a social media content expert. Generate a catchy caption, a list of relevant hashtags, and a few emojis for a social media post based on the following text or keywords.\n",
        "\n",
        "                Input: {user_input}\n",
        "\n",
        "                Format your response clearly with a caption, a separate line for hashtags, and a line for emojis.\n",
        "                \"\"\"\n",
        "\n",
        "                bot_response = get_gemini_response(prompt)\n",
        "\n",
        "                print(\"--- Generated Content ---\")\n",
        "                print(bot_response)\n",
        "                print(\"-\" * 60 + \"\\n\")\n",
        "\n",
        "        except KeyboardInterrupt:\n",
        "            print(\"\\n\\nGenerator: Program ended by user. Goodbye!\")\n",
        "            break\n",
        "\n",
        "if __name__ == \"__main__\":\n",
        "    main()\n"
      ],
      "metadata": {
        "colab": {
          "base_uri": "https://localhost:8080/",
          "height": 403
        },
        "id": "MgCS6RKRWfwO",
        "outputId": "91a3788f-9be8-41d7-af7e-4a0e85388038"
      },
      "execution_count": 6,
      "outputs": [
        {
          "output_type": "stream",
          "name": "stdout",
          "text": [
            "--- Social Media Caption Generator ---\n",
            "This tool uses Gemini AI to create captions, hashtags, and emojis.\n",
            "Type 'exit' or 'quit' to end the program.\n",
            "------------------------------------------------------------\n",
            "Enter keywords or text for your post: Blueberry frruit\n",
            "\n",
            "Generator: Crafting your content...\n",
            "\n",
            "--- Generated Content ---\n",
            "Caption:  Dive headfirst into a world of juicy, sweet blueberry bliss!  These\n",
            "little berries are bursting with flavor – perfect for a summer snack or baked\n",
            "into your favorite treat.  What's your favorite way to enjoy blueberries? 👇\n",
            "#Blueberries #BlueberryFruit #SummerFruit #Berrylicious #HealthyEating\n",
            "#Superfood #BlueBerryGoodness #FruitLover #SummerVibes #Delicious #SweetTreat\n",
            "#SnackTime   🫐😋☀️\n",
            "------------------------------------------------------------\n",
            "\n",
            "\n",
            "\n",
            "Generator: Program ended by user. Goodbye!\n"
          ]
        }
      ]
    }
  ]
}