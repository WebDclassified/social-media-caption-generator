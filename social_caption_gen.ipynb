!pip install transformers gradio

import gradio as gr
from transformers import pipeline
import random
import re

# ---------------- Pipelines ----------------
caption_generator = pipeline("text-generation", model="gpt2")
sentiment_pipeline = pipeline("sentiment-analysis")

# ---------------- Emoji Dictionary ----------------
emoji_dict = {
    "positive": ["😊", "🌟", "🔥", "💪", "🚀", "✨"],
    "negative": ["😢", "😞", "💔", "😠", "😓"],
    "neutral": ["🙂", "😐", "🧐", "🤔", "😶"]
}

# ---------------- Functions ----------------
def get_emojis(text, min_count=2, max_count=4):
    """Generate emojis based on sentiment"""
    label = sentiment_pipeline(text)[0]['label'].lower()
    if "pos" in label:
        sentiment = "positive"
    elif "neg" in label:
        sentiment = "negative"
    else:
        sentiment = "neutral"
    num_emojis = random.randint(min_count, max_count)
    return ''.join(random.choices(emoji_dict[sentiment], k=num_emojis))

def get_hashtags(prompt, platform, max_generic=5, extra_tags=2):
    """Generate hashtags from prompt and platform-specific tags"""
    words = [re.sub(r'[^\w]', '', w.lower()) for w in prompt.split()]
    tags = ["#" + w for w in words if len(w) > 3]

    platform_tags = {
        "Instagram": ["#instadaily", "#igers", "#picoftheday", "#photooftheday", "#instagood"],
        "LinkedIn": ["#career", "#leadership", "#networking", "#professional", "#growth"],
        "Twitter": ["#tweet", "#trending", "#news", "#viral", "#breaking"]
    }

    platform_specific = platform_tags.get(platform, [])
    combined = list(set(tags[:max_generic] + random.sample(platform_specific, min(extra_tags, len(platform_specific)))))
    random.shuffle(combined)
    return ' '.join(combined)

def generate_post(prompt, platform):
    """Generate caption, emojis, and hashtags"""
    # Generate caption
    caption = caption_generator(prompt, max_length=50, num_return_sequences=1)[0]['generated_text']
    caption = caption.strip().replace("\n", " ")

    # Generate emojis
    emojis = get_emojis(caption)

    # Generate hashtags
    hashtags = get_hashtags(prompt, platform)

    return caption, emojis, hashtags

# ---------------- Gradio Interface ----------------
interface = gr.Interface(
    fn=generate_post,
    inputs=[
        gr.Textbox(label="Enter keyword or theme", placeholder="Type your theme..."),
        gr.Radio(["Instagram", "LinkedIn", "Twitter"], label="Choose Platform")
    ],
    outputs=[
        gr.Textbox(label="Generated Caption"),
        gr.Textbox(label="Emojis"),
        gr.Textbox(label="Hashtags")
    ],
    title="Social Media Post & Caption Generator",
    description="Generate catchy captions, relevant hashtags, and emojis based on your theme!"
)

interface.launch()
